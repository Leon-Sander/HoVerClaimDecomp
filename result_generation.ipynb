{
 "cells": [
  {
   "cell_type": "code",
   "execution_count": 9,
   "metadata": {},
   "outputs": [],
   "source": [
    "from evaluate_retrieval import is_successful_retrieval\n",
    "from utils import load_obj\n",
    "\n",
    "# tfidf_retrieval_output_dev_100.json\n",
    "# tfidf_retrieval_output_dev_1000.json\n",
    "# mistral_retrieval_output_dev_100.json\n",
    "# mistral_retrieval_output_dev_1000.json\n",
    "\n",
    "def calculate_success_percentage_supported(data, retrieval_key=\"retrieved\"):\n",
    "    supported_data = [item for item in data if item['label'] == \"SUPPORTED\"]\n",
    "    success_percentages, average_total_percentage = calculate_success_percentage(supported_data, retrieval_key)\n",
    "    return success_percentages, average_total_percentage\n",
    "\n",
    "def calculate_success_percentage_not_supported(data, retrieval_key=\"retrieved\"):\n",
    "    not_supported_data = [item for item in data if item['label'] == \"NOT_SUPPORTED\"]\n",
    "    success_percentages, average_total_percentage = calculate_success_percentage(not_supported_data, retrieval_key)\n",
    "    return success_percentages, average_total_percentage\n",
    "\n",
    "\n",
    "def calculate_success_percentage(data, retrieval_key=\"retrieved\"):\n",
    "    hop_counts = {2: {'total': 0, 'successful': 0},\n",
    "                    3: {'total': 0, 'successful': 0},\n",
    "                    4: {'total': 0, 'successful': 0}}\n",
    "\n",
    "    for obj in data:\n",
    "        num_hops = obj['num_hops']\n",
    "        hop_counts[num_hops][\"total\"] += 1\n",
    "        if is_successful_retrieval(obj, retrieval_key):\n",
    "            hop_counts[num_hops]['successful'] += 1\n",
    "\n",
    "    success_percentages = {}\n",
    "    for num_hops, counts in hop_counts.items():\n",
    "        if counts['total'] > 0:\n",
    "            success_percentage = (counts['successful'] / counts['total']) * 100\n",
    "            success_percentages[num_hops] = success_percentage\n",
    "    #print(hop_counts)\n",
    "    #print(success_percentages)\n",
    "    average_total_percentage = (success_percentages[2] + success_percentages[3] + success_percentages[4]) / 3\n",
    "    return success_percentages, average_total_percentage\n",
    "\n",
    "def calculate_success_percentage_qa(data, retrieval_key, support_type):\n",
    "    hop_counts = {2: {'total': 0, 'successful': 0},\n",
    "                    3: {'total': 0, 'successful': 0},\n",
    "                    4: {'total': 0, 'successful': 0}}\n",
    "\n",
    "\n",
    "    for hop_count in data:\n",
    "        int_hop_count = int(hop_count)\n",
    "        for key in data[hop_count]:\n",
    "            for item in data[hop_count][key]:\n",
    "                #if obj[\"label\"] == \"SUPPORTED\":\n",
    "                if support_type == \"SUPPORTED\":\n",
    "                    if item[\"label\"] == \"SUPPORTED\":\n",
    "                        hop_counts[int_hop_count][\"total\"] += 1\n",
    "                        if is_successful_retrieval(item, retrieval_key=retrieval_key):\n",
    "                            hop_counts[int_hop_count]['successful'] += 1\n",
    "                elif support_type == \"NOT_SUPPORTED\":\n",
    "                        if item[\"label\"] == \"NOT_SUPPORTED\":\n",
    "                            hop_counts[int_hop_count][\"total\"] += 1\n",
    "                            if is_successful_retrieval(item, retrieval_key=retrieval_key):\n",
    "                                hop_counts[int_hop_count]['successful'] += 1\n",
    "                else:\n",
    "                    hop_counts[int_hop_count][\"total\"] += 1\n",
    "                    if is_successful_retrieval(item, retrieval_key=retrieval_key):\n",
    "                        hop_counts[int_hop_count]['successful'] += 1\n",
    "    #print(hop_counts)\n",
    "    success_percentages = {}\n",
    "    for num_hops, counts in hop_counts.items():\n",
    "        if counts['total'] > 0:\n",
    "            success_percentage = (counts['successful'] / counts['total']) * 100\n",
    "            success_percentages[num_hops] = success_percentage\n",
    "\n",
    "\n",
    "    average_total_percentage = (success_percentages[2] + success_percentages[3] + success_percentages[4]) / 3\n",
    "    # Example variables\n",
    "    hops_2 = round(success_percentages[2],2)\n",
    "    hops_3 = round(success_percentages[3],2)\n",
    "    hops_4 = round(success_percentages[4],2)\n",
    "    avg_total = round(average_total_percentage,2)\n",
    "    return success_percentages, average_total_percentage#hops_2, hops_3, hops_4, avg_total\n",
    "\n",
    "\n",
    "def generate_latex_entry_simple(success_percentages, average_total_percentage, method, dataset, retrieved):\n",
    "    hops_2 = round(success_percentages[2],2)\n",
    "    hops_3 = round(success_percentages[3],2)\n",
    "    hops_4 = round(success_percentages[4],2)\n",
    "    avg_total = round(average_total_percentage,2)\n",
    "\n",
    "    #latex_line = f\"{method} & {dataset} & {retrieved} & {hops_2}\\% & {hops_3}\\% & {hops_4}\\% & {avg_total}\\% \\\\\\\\ \\\\hline\\n\"    \n",
    "    latex_line = f\"{method} & {hops_2}\\% & {hops_3}\\% & {hops_4}\\% & {avg_total}\\% \\\\\\\\ \\\\hline\\n\"   \n",
    "    print(latex_line)\n",
    "\n",
    "def generate_latex_entry_multicolumn(success_percentages_supp, average_total_percentage_supp, success_percentages_not_supp, average_total_percentage_not_supp, method):\n",
    "    hops_2_supp = round(success_percentages_supp[2],2)\n",
    "    hops_3_supp = round(success_percentages_supp[3],2)\n",
    "    hops_4_supp = round(success_percentages_supp[4],2)\n",
    "    avg_total_supp = round(average_total_percentage_supp,2)\n",
    "\n",
    "    hops_2_not_supp = round(success_percentages_not_supp[2],2)\n",
    "    hops_3_not_supp = round(success_percentages_not_supp[3],2)\n",
    "    hops_4_not_supp = round(success_percentages_not_supp[4],2)\n",
    "    avg_total_not_supp = round(average_total_percentage_not_supp,2)\n",
    "\n",
    "    #latex_line = f\"{method} & {dataset} & {retrieved} & {hops_2}\\% & {hops_3}\\% & {hops_4}\\% & {avg_total}\\% \\\\\\\\ \\\\hline\\n\"    \n",
    "    #latex_line = f\"{method} & {hops_2}\\% & {hops_3}\\% & {hops_4}\\% & {avg_total}\\% \\\\\\\\ \\\\hline\\n\"\n",
    "    # TF-IDF & 83.64\\% & 58.13\\% & 29.17\\% & 56.98\\% & 84.84\\% & 58.78\\% & 34.25\\% & 59.29\\% \\\\ \n",
    "    latex_line = f\"{method} & {hops_2_supp}\\% & {hops_3_supp}\\% & {hops_4_supp}\\% & {avg_total_supp}\\%& {hops_2_not_supp}\\% & {hops_3_not_supp}\\% & {hops_4_not_supp}\\% & {avg_total_not_supp}\\% \\\\\\\\\"\n",
    "    print(latex_line)\n",
    "\n",
    "\n",
    "# initial Benchmark"
   ]
  },
  {
   "cell_type": "code",
   "execution_count": 19,
   "metadata": {},
   "outputs": [
    {
     "name": "stdout",
     "output_type": "stream",
     "text": [
      "TF-IDF & 69.67\\% & 35.43\\% & 14.09\\% & 39.73\\%& 70.91\\% & 34.14\\% & 12.5\\% & 39.18\\% \\\\\n",
      "Mistral & 74.47\\% & 39.46\\% & 16.44\\% & 43.46\\%& 66.12\\% & 34.95\\% & 17.05\\% & 39.37\\% \\\\\n"
     ]
    }
   ],
   "source": [
    "data_path = \"data/tfidf_retrieval_output_dev_100.json\"\n",
    "success_percentages_supp, average_total_percentage_supp = calculate_success_percentage_supported(load_obj(data_path))\n",
    "success_percentages_not_supp, average_total_percentage_not_supp = calculate_success_percentage_not_supported(load_obj(data_path))\n",
    "generate_latex_entry_multicolumn(success_percentages_supp, average_total_percentage_supp, success_percentages_not_supp, average_total_percentage_not_supp, \"TF-IDF\")\n",
    "\n",
    "data_path = \"data/mistral_retrieval_output_dev_100.json\"\n",
    "success_percentages_supp, average_total_percentage_supp = calculate_success_percentage_supported(load_obj(data_path))\n",
    "success_percentages_not_supp, average_total_percentage_not_supp = calculate_success_percentage_not_supported(load_obj(data_path))\n",
    "generate_latex_entry_multicolumn(success_percentages_supp, average_total_percentage_supp, success_percentages_not_supp, average_total_percentage_not_supp, \"Mistral\")\n"
   ]
  },
  {
   "cell_type": "code",
   "execution_count": 3,
   "metadata": {},
   "outputs": [
    {
     "name": "stdout",
     "output_type": "stream",
     "text": [
      "Mistral & 71.21\\% & 37.6\\% & 15.46\\% & 41.42\\%& 63.31\\% & 32.76\\% & 15.15\\% & 37.07\\% \\\\\n"
     ]
    }
   ],
   "source": [
    "data_path = \"data/mistral_retrieval_output_dev_100_multi_hop_prompt.json\"\n",
    "success_percentages_supp, average_total_percentage_supp = calculate_success_percentage_supported(load_obj(data_path))\n",
    "success_percentages_not_supp, average_total_percentage_not_supp = calculate_success_percentage_not_supported(load_obj(data_path))\n",
    "generate_latex_entry_multicolumn(success_percentages_supp, average_total_percentage_supp, success_percentages_not_supp, average_total_percentage_not_supp, \"Mistral\")\n"
   ]
  },
  {
   "cell_type": "code",
   "execution_count": 20,
   "metadata": {},
   "outputs": [
    {
     "name": "stdout",
     "output_type": "stream",
     "text": [
      "TF-IDF & 84.84\\% & 58.78\\% & 34.25\\% & 59.29\\%& 83.64\\% & 58.13\\% & 29.17\\% & 56.98\\% \\\\\n",
      "Mistral & 92.71\\% & 69.21\\% & 45.6\\% & 69.17\\%& 87.77\\% & 63.67\\% & 44.7\\% & 65.38\\% \\\\\n"
     ]
    }
   ],
   "source": [
    "data_path = \"data/tfidf_retrieval_output_dev_1000.json\"\n",
    "success_percentages_supp, average_total_percentage_supp = calculate_success_percentage_supported(load_obj(data_path))\n",
    "success_percentages_not_supp, average_total_percentage_not_supp = calculate_success_percentage_not_supported(load_obj(data_path))\n",
    "generate_latex_entry_multicolumn(success_percentages_supp, average_total_percentage_supp, success_percentages_not_supp, average_total_percentage_not_supp, \"TF-IDF\")\n",
    "\n",
    "\n",
    "data_path = \"data/mistral_retrieval_output_dev_1000.json\"\n",
    "success_percentages_supp, average_total_percentage_supp = calculate_success_percentage_supported(load_obj(data_path))\n",
    "success_percentages_not_supp, average_total_percentage_not_supp = calculate_success_percentage_not_supported(load_obj(data_path))\n",
    "generate_latex_entry_multicolumn(success_percentages_supp, average_total_percentage_supp, success_percentages_not_supp, average_total_percentage_not_supp, \"Mistral\")\n"
   ]
  },
  {
   "cell_type": "code",
   "execution_count": null,
   "metadata": {},
   "outputs": [],
   "source": []
  },
  {
   "cell_type": "markdown",
   "metadata": {},
   "source": [
    "<h1 style=\"color:green;\">Qualitative Analysis Data</h1>\n"
   ]
  },
  {
   "cell_type": "code",
   "execution_count": 10,
   "metadata": {},
   "outputs": [
    {
     "name": "stdout",
     "output_type": "stream",
     "text": [
      "5 & 80.0\\% & 50.0\\% & 10.0\\% & 46.67\\%& 70.0\\% & 50.0\\% & 10.0\\% & 43.33\\% \\\\\n",
      "10 & 70.0\\% & 50.0\\% & 10.0\\% & 43.33\\%& 60.0\\% & 50.0\\% & 0.0\\% & 36.67\\% \\\\\n",
      "20 & 70.0\\% & 40.0\\% & 10.0\\% & 40.0\\%& 50.0\\% & 50.0\\% & 0.0\\% & 33.33\\% \\\\\n",
      "60 & 70.0\\% & 60.0\\% & 10.0\\% & 46.67\\%& 80.0\\% & 40.0\\% & 10.0\\% & 43.33\\% \\\\\n",
      "80 & 80.0\\% & 40.0\\% & 10.0\\% & 43.33\\%& 70.0\\% & 40.0\\% & 20.0\\% & 43.33\\% \\\\\n",
      "125 & 70.0\\% & 30.0\\% & 0.0\\% & 33.33\\%& 90.0\\% & 40.0\\% & 10.0\\% & 46.67\\% \\\\\n",
      "300 & 60.0\\% & 20.0\\% & 10.0\\% & 30.0\\%& 70.0\\% & 50.0\\% & 0.0\\% & 40.0\\% \\\\\n"
     ]
    }
   ],
   "source": [
    "for threshhold in [5, 10, 20, 60, 80, 125, 300]:\n",
    "    data_path = f\"data/iterative_cross_test_{threshhold}_no_filter.json\"\n",
    "    success_percentages_supp, average_total_percentage_supp = calculate_success_percentage_qa(load_obj(data_path), retrieval_key=\"retrieved_1\", support_type=\"SUPPORTED\")\n",
    "    success_percentages_not_supp, average_total_percentage_not_supp = calculate_success_percentage_qa(load_obj(data_path), retrieval_key=\"retrieved_1\", support_type=\"NOT_SUPPORTED\")\n",
    "    generate_latex_entry_multicolumn(success_percentages_supp, average_total_percentage_supp, success_percentages_not_supp, average_total_percentage_not_supp, threshhold)\n"
   ]
  },
  {
   "cell_type": "code",
   "execution_count": 14,
   "metadata": {},
   "outputs": [
    {
     "name": "stdout",
     "output_type": "stream",
     "text": [
      "5 & 75.0\\% & 50.0\\% & 10.0\\% & 45.0\\% \\\\\n",
      "10 & 65.0\\% & 50.0\\% & 5.0\\% & 40.0\\% \\\\\n",
      "20 & 60.0\\% & 45.0\\% & 5.0\\% & 36.67\\% \\\\\n",
      "60 & 75.0\\% & 50.0\\% & 10.0\\% & 45.0\\% \\\\\n",
      "80 & 75.0\\% & 40.0\\% & 15.0\\% & 43.33\\% \\\\\n",
      "125 & 80.0\\% & 35.0\\% & 5.0\\% & 40.0\\% \\\\\n",
      "300 & 65.0\\% & 35.0\\% & 5.0\\% & 35.0\\% \\\\\n"
     ]
    }
   ],
   "source": [
    "def generate_latex_entry_multicolumn_all(success_percentages, average_total_percentage, method):\n",
    "    hops_2_supp = round(success_percentages[2],2)\n",
    "    hops_3_supp = round(success_percentages[3],2)\n",
    "    hops_4_supp = round(success_percentages[4],2)\n",
    "    avg_total_supp = round(average_total_percentage,2)\n",
    "\n",
    "    #latex_line = f\"{method} & {dataset} & {retrieved} & {hops_2}\\% & {hops_3}\\% & {hops_4}\\% & {avg_total}\\% \\\\\\\\ \\\\hline\\n\"    \n",
    "    #latex_line = f\"{method} & {hops_2}\\% & {hops_3}\\% & {hops_4}\\% & {avg_total}\\% \\\\\\\\ \\\\hline\\n\"\n",
    "    # TF-IDF & 83.64\\% & 58.13\\% & 29.17\\% & 56.98\\% & 84.84\\% & 58.78\\% & 34.25\\% & 59.29\\% \\\\ \n",
    "    latex_line = f\"{method} & {hops_2_supp}\\% & {hops_3_supp}\\% & {hops_4_supp}\\% & {avg_total_supp}\\% \\\\\\\\\"\n",
    "    print(latex_line)\n",
    "\n",
    "for threshhold in [5, 10, 20, 60, 80, 125, 300]:\n",
    "    data_path = f\"data/iterative_cross_test_{threshhold}_no_filter.json\"\n",
    "    success_percentages_supp, average_total_percentage_supp = calculate_success_percentage_qa(load_obj(data_path), retrieval_key=\"retrieved_1\", support_type=\"ALL\")\n",
    "    generate_latex_entry_multicolumn_all(success_percentages_supp, average_total_percentage_supp, threshhold)\n"
   ]
  },
  {
   "cell_type": "code",
   "execution_count": null,
   "metadata": {},
   "outputs": [],
   "source": [
    "# data/qualitative_analysis_claims_10_base.json\n",
    "# Alle folgenden experimente basieren auf data/qualitative_analysis_claims_10_base.json\n",
    "\n",
    "# data/iterative_qualitative_analysis_question_answering_60.json\n",
    "# data/iterative_test_base_60_no_filter.json\n",
    "# data/iterative_test_base_60.json\n",
    "# data/iterative_test2.json\n",
    "# data/iterative_test_with_questions.json -> double cross\n",
    "\n",
    "\n"
   ]
  },
  {
   "cell_type": "code",
   "execution_count": 6,
   "metadata": {},
   "outputs": [],
   "source": [
    "from utils import load_obj\n",
    "qa_data = load_obj(\"data/qualitative_analysis_claims_10_base.json\")\n",
    "setting_data = load_obj(\"data/iterative_test_with_questions.json\")\n",
    "for hop_count in qa_data:\n",
    "    for key in qa_data[hop_count]:\n",
    "        for index, item in enumerate(qa_data[hop_count][key]):\n",
    "            if item[\"claim\"] != setting_data[hop_count][key][index][\"claim\"]:\n",
    "                print(\"ERROR\")"
   ]
  },
  {
   "cell_type": "markdown",
   "metadata": {},
   "source": [
    "<h1 style=\"color:green;\">Not Supported analysis</h1>\n"
   ]
  },
  {
   "cell_type": "code",
   "execution_count": 2,
   "metadata": {},
   "outputs": [
    {
     "name": "stdout",
     "output_type": "stream",
     "text": [
      "Success rate for hop 2 iteration 0 SUPPORTED is 70.0%\n",
      "Success rate for hop 2 iteration 0 NOT_SUPPORTED is 70.0%\n",
      "Success rate for hop 2 iteration 1 SUPPORTED is 70.0%\n",
      "Success rate for hop 2 iteration 1 NOT_SUPPORTED is 70.0%\n",
      "Success rate for hop 2 iteration 2 SUPPORTED is 60.0%\n",
      "Success rate for hop 2 iteration 2 NOT_SUPPORTED is 60.0%\n",
      "Success rate for hop 3 iteration 0 SUPPORTED is 40.0%\n",
      "Success rate for hop 3 iteration 0 NOT_SUPPORTED is 40.0%\n",
      "Success rate for hop 3 iteration 1 SUPPORTED is 40.0%\n",
      "Success rate for hop 3 iteration 1 NOT_SUPPORTED is 30.0%\n",
      "Success rate for hop 3 iteration 2 SUPPORTED is 50.0%\n",
      "Success rate for hop 3 iteration 2 NOT_SUPPORTED is 30.0%\n",
      "Success rate for hop 3 iteration 3 SUPPORTED is 60.0%\n",
      "Success rate for hop 3 iteration 3 NOT_SUPPORTED is 30.0%\n",
      "Success rate for hop 4 iteration 0 SUPPORTED is 40.0%\n",
      "Success rate for hop 4 iteration 0 NOT_SUPPORTED is 40.0%\n",
      "Success rate for hop 4 iteration 1 SUPPORTED is 60.0%\n",
      "Success rate for hop 4 iteration 1 NOT_SUPPORTED is 40.0%\n",
      "Success rate for hop 4 iteration 2 SUPPORTED is 60.0%\n",
      "Success rate for hop 4 iteration 2 NOT_SUPPORTED is 30.0%\n",
      "Success rate for hop 4 iteration 3 SUPPORTED is 30.0%\n",
      "Success rate for hop 4 iteration 3 NOT_SUPPORTED is 30.0%\n",
      "Success rate for hop 4 iteration 4 SUPPORTED is 30.0%\n",
      "Success rate for hop 4 iteration 4 NOT_SUPPORTED is 30.0%\n"
     ]
    }
   ],
   "source": [
    "from evaluate_retrieval import is_successful_retrieval\n",
    "from utils import load_obj\n",
    "\n",
    "data = load_obj(\"data/iterative_qualitative_analysis_not_supported_question_answering_80.json\")\n",
    "\n",
    "\n",
    "\n",
    "def calculate_iteration_success(data, hop_count):\n",
    "    \n",
    "    \n",
    "    for i in range(int(hop_count)+1):\n",
    "        success = 0\n",
    "        success_not_supported = 0\n",
    "        total = 0\n",
    "        for item in data:\n",
    "            total += 1\n",
    "            if is_successful_retrieval(item, f\"retrieved_{i}\"):\n",
    "                success += 1\n",
    "            if is_successful_retrieval(item[\"not_supported_counterpart\"], f\"retrieved_{i}\"):\n",
    "                success_not_supported += 1\n",
    "            \n",
    "        print(f\"Success rate for hop {hop_count} iteration {i} SUPPORTED is {success/total * 100}%\")\n",
    "        print(f\"Success rate for hop {hop_count} iteration {i} NOT_SUPPORTED is {success_not_supported/total * 100}%\")\n",
    "\n",
    "for hop_count in data:\n",
    "    calculate_iteration_success(data[hop_count], hop_count)"
   ]
  },
  {
   "cell_type": "code",
   "execution_count": 4,
   "metadata": {},
   "outputs": [
    {
     "name": "stdout",
     "output_type": "stream",
     "text": [
      "\\multicolumn{6}{l}{\\textit{Hop 1, Supported}} \\\\\n"
     ]
    },
    {
     "ename": "TypeError",
     "evalue": "string indices must be integers",
     "output_type": "error",
     "traceback": [
      "\u001b[0;31m---------------------------------------------------------------------------\u001b[0m",
      "\u001b[0;31mTypeError\u001b[0m                                 Traceback (most recent call last)",
      "Cell \u001b[0;32mIn[4], line 31\u001b[0m\n\u001b[1;32m     28\u001b[0m                     row_entries\u001b[38;5;241m.\u001b[39mappend(\u001b[38;5;124m\"\u001b[39m\u001b[38;5;124m-\u001b[39m\u001b[38;5;124m\"\u001b[39m)\n\u001b[1;32m     29\u001b[0m             \u001b[38;5;28mprint\u001b[39m(config \u001b[38;5;241m+\u001b[39m \u001b[38;5;124m\"\u001b[39m\u001b[38;5;124m & \u001b[39m\u001b[38;5;124m\"\u001b[39m \u001b[38;5;241m+\u001b[39m \u001b[38;5;124m\"\u001b[39m\u001b[38;5;124m & \u001b[39m\u001b[38;5;124m\"\u001b[39m\u001b[38;5;241m.\u001b[39mjoin(row_entries) \u001b[38;5;241m+\u001b[39m \u001b[38;5;124m\"\u001b[39m\u001b[38;5;124m \u001b[39m\u001b[38;5;130;01m\\\\\u001b[39;00m\u001b[38;5;130;01m\\\\\u001b[39;00m\u001b[38;5;124m\"\u001b[39m)\n\u001b[0;32m---> 31\u001b[0m \u001b[43mgenerate_latex_table\u001b[49m\u001b[43m(\u001b[49m\u001b[43mdata\u001b[49m\u001b[43m,\u001b[49m\u001b[43m \u001b[49m\u001b[38;5;241;43m4\u001b[39;49m\u001b[43m,\u001b[49m\u001b[43m \u001b[49m\u001b[38;5;241;43m4\u001b[39;49m\u001b[43m)\u001b[49m\n",
      "Cell \u001b[0;32mIn[4], line 10\u001b[0m, in \u001b[0;36mgenerate_latex_table\u001b[0;34m(data, max_hop_count, max_iter)\u001b[0m\n\u001b[1;32m      8\u001b[0m \u001b[38;5;28;01mfor\u001b[39;00m i \u001b[38;5;129;01min\u001b[39;00m \u001b[38;5;28mrange\u001b[39m(max_iter \u001b[38;5;241m+\u001b[39m \u001b[38;5;241m1\u001b[39m):\n\u001b[1;32m      9\u001b[0m     \u001b[38;5;28;01mif\u001b[39;00m i \u001b[38;5;241m<\u001b[39m\u001b[38;5;241m=\u001b[39m hop_count:\n\u001b[0;32m---> 10\u001b[0m         success \u001b[38;5;241m=\u001b[39m \u001b[38;5;28;43msum\u001b[39;49m\u001b[43m(\u001b[49m\u001b[43mis_successful_retrieval\u001b[49m\u001b[43m(\u001b[49m\u001b[43mitem\u001b[49m\u001b[43m,\u001b[49m\u001b[43m \u001b[49m\u001b[38;5;124;43mf\u001b[39;49m\u001b[38;5;124;43m\"\u001b[39;49m\u001b[38;5;124;43mretrieved_\u001b[39;49m\u001b[38;5;132;43;01m{\u001b[39;49;00m\u001b[43mi\u001b[49m\u001b[38;5;132;43;01m}\u001b[39;49;00m\u001b[38;5;124;43m\"\u001b[39;49m\u001b[43m)\u001b[49m\u001b[43m \u001b[49m\u001b[38;5;28;43;01mfor\u001b[39;49;00m\u001b[43m \u001b[49m\u001b[43mitem\u001b[49m\u001b[43m \u001b[49m\u001b[38;5;129;43;01min\u001b[39;49;00m\u001b[43m \u001b[49m\u001b[43mdata\u001b[49m\u001b[43m \u001b[49m\u001b[38;5;28;43;01mif\u001b[39;49;00m\u001b[43m \u001b[49m\u001b[43mitem\u001b[49m\u001b[43m[\u001b[49m\u001b[38;5;124;43m'\u001b[39;49m\u001b[38;5;124;43mconfig\u001b[39;49m\u001b[38;5;124;43m'\u001b[39;49m\u001b[43m]\u001b[49m\u001b[43m \u001b[49m\u001b[38;5;241;43m==\u001b[39;49m\u001b[43m \u001b[49m\u001b[43mconfig\u001b[49m\u001b[43m \u001b[49m\u001b[38;5;129;43;01mand\u001b[39;49;00m\u001b[43m \u001b[49m\u001b[43mitem\u001b[49m\u001b[43m[\u001b[49m\u001b[38;5;124;43m'\u001b[39;49m\u001b[38;5;124;43msupported\u001b[39;49m\u001b[38;5;124;43m'\u001b[39;49m\u001b[43m]\u001b[49m\u001b[43m)\u001b[49m\n\u001b[1;32m     11\u001b[0m         total \u001b[38;5;241m=\u001b[39m \u001b[38;5;28msum\u001b[39m(\u001b[38;5;241m1\u001b[39m \u001b[38;5;28;01mfor\u001b[39;00m item \u001b[38;5;129;01min\u001b[39;00m data \u001b[38;5;28;01mif\u001b[39;00m item[\u001b[38;5;124m'\u001b[39m\u001b[38;5;124mconfig\u001b[39m\u001b[38;5;124m'\u001b[39m] \u001b[38;5;241m==\u001b[39m config \u001b[38;5;129;01mand\u001b[39;00m item[\u001b[38;5;124m'\u001b[39m\u001b[38;5;124msupported\u001b[39m\u001b[38;5;124m'\u001b[39m])\n\u001b[1;32m     12\u001b[0m         success_rate \u001b[38;5;241m=\u001b[39m success \u001b[38;5;241m/\u001b[39m total \u001b[38;5;241m*\u001b[39m \u001b[38;5;241m100\u001b[39m \u001b[38;5;28;01mif\u001b[39;00m total \u001b[38;5;241m>\u001b[39m \u001b[38;5;241m0\u001b[39m \u001b[38;5;28;01melse\u001b[39;00m \u001b[38;5;241m0\u001b[39m\n",
      "Cell \u001b[0;32mIn[4], line 10\u001b[0m, in \u001b[0;36m<genexpr>\u001b[0;34m(.0)\u001b[0m\n\u001b[1;32m      8\u001b[0m \u001b[38;5;28;01mfor\u001b[39;00m i \u001b[38;5;129;01min\u001b[39;00m \u001b[38;5;28mrange\u001b[39m(max_iter \u001b[38;5;241m+\u001b[39m \u001b[38;5;241m1\u001b[39m):\n\u001b[1;32m      9\u001b[0m     \u001b[38;5;28;01mif\u001b[39;00m i \u001b[38;5;241m<\u001b[39m\u001b[38;5;241m=\u001b[39m hop_count:\n\u001b[0;32m---> 10\u001b[0m         success \u001b[38;5;241m=\u001b[39m \u001b[38;5;28msum\u001b[39m(is_successful_retrieval(item, \u001b[38;5;124mf\u001b[39m\u001b[38;5;124m\"\u001b[39m\u001b[38;5;124mretrieved_\u001b[39m\u001b[38;5;132;01m{\u001b[39;00mi\u001b[38;5;132;01m}\u001b[39;00m\u001b[38;5;124m\"\u001b[39m) \u001b[38;5;28;01mfor\u001b[39;00m item \u001b[38;5;129;01min\u001b[39;00m data \u001b[38;5;28;01mif\u001b[39;00m \u001b[43mitem\u001b[49m\u001b[43m[\u001b[49m\u001b[38;5;124;43m'\u001b[39;49m\u001b[38;5;124;43mconfig\u001b[39;49m\u001b[38;5;124;43m'\u001b[39;49m\u001b[43m]\u001b[49m \u001b[38;5;241m==\u001b[39m config \u001b[38;5;129;01mand\u001b[39;00m item[\u001b[38;5;124m'\u001b[39m\u001b[38;5;124msupported\u001b[39m\u001b[38;5;124m'\u001b[39m])\n\u001b[1;32m     11\u001b[0m         total \u001b[38;5;241m=\u001b[39m \u001b[38;5;28msum\u001b[39m(\u001b[38;5;241m1\u001b[39m \u001b[38;5;28;01mfor\u001b[39;00m item \u001b[38;5;129;01min\u001b[39;00m data \u001b[38;5;28;01mif\u001b[39;00m item[\u001b[38;5;124m'\u001b[39m\u001b[38;5;124mconfig\u001b[39m\u001b[38;5;124m'\u001b[39m] \u001b[38;5;241m==\u001b[39m config \u001b[38;5;129;01mand\u001b[39;00m item[\u001b[38;5;124m'\u001b[39m\u001b[38;5;124msupported\u001b[39m\u001b[38;5;124m'\u001b[39m])\n\u001b[1;32m     12\u001b[0m         success_rate \u001b[38;5;241m=\u001b[39m success \u001b[38;5;241m/\u001b[39m total \u001b[38;5;241m*\u001b[39m \u001b[38;5;241m100\u001b[39m \u001b[38;5;28;01mif\u001b[39;00m total \u001b[38;5;241m>\u001b[39m \u001b[38;5;241m0\u001b[39m \u001b[38;5;28;01melse\u001b[39;00m \u001b[38;5;241m0\u001b[39m\n",
      "\u001b[0;31mTypeError\u001b[0m: string indices must be integers"
     ]
    }
   ],
   "source": [
    "def generate_latex_table(data, max_hop_count, max_iter):\n",
    "    for hop_count in range(1, max_hop_count + 1):\n",
    "        hop_count = int(hop_count)\n",
    "        # Print supported and not supported sections for each hop count\n",
    "        print(f\"\\\\multicolumn{{6}}{{l}}{{\\\\textit{{Hop {hop_count}, Supported}}}} \\\\\\\\\")\n",
    "        for config in ['Decomposed', 'Base like Decomposed', 'Base 60 like Decomposed', 'Base 60 no filter like Decomposed', 'Questions Double Cross like Decomposed', 'Questions 60 like Decomposed', 'Questions 60 no filter like Decomposed']:\n",
    "            row_entries = []\n",
    "            for i in range(max_iter + 1):\n",
    "                if i <= hop_count:\n",
    "                    success = sum(is_successful_retrieval(item, f\"retrieved_{i}\") for item in data if item['config'] == config and item['supported'])\n",
    "                    total = sum(1 for item in data if item['config'] == config and item['supported'])\n",
    "                    success_rate = success / total * 100 if total > 0 else 0\n",
    "                    row_entries.append(f\"{success_rate:.1f}%\")\n",
    "                else:\n",
    "                    row_entries.append(\"-\")\n",
    "            print(config + \" & \" + \" & \".join(row_entries) + \" \\\\\\\\\")\n",
    "        \n",
    "        print(f\"\\\\multicolumn{{6}}{{l}}{{\\\\textit{{Hop {hop_count}, Not Supported}}}} \\\\\\\\\")\n",
    "        for config in ['Decomposed', 'Base like Decomposed', 'Base 60 like Decomposed', 'Base 60 no filter like Decomposed', 'Questions Double Cross like Decomposed', 'Questions 60 like Decomposed', 'Questions 60 no filter like Decomposed']:\n",
    "            row_entries = []\n",
    "            for i in range(max_iter + 1):\n",
    "                if i <= hop_count:\n",
    "                    success = sum(is_successful_retrieval(item[\"not_supported_counterpart\"], f\"retrieved_{i}\") for item in data if item['config'] == config and not item['supported'])\n",
    "                    total = sum(1 for item in data if item['config'] == config and not item['supported'])\n",
    "                    success_rate = success / total * 100 if total > 0 else 0\n",
    "                    row_entries.append(f\"{success_rate:.1f}%\")\n",
    "                else:\n",
    "                    row_entries.append(\"-\")\n",
    "            print(config + \" & \" + \" & \".join(row_entries) + \" \\\\\\\\\")\n",
    "\n",
    "generate_latex_table(data, 4, 4)"
   ]
  },
  {
   "cell_type": "code",
   "execution_count": 8,
   "metadata": {},
   "outputs": [
    {
     "name": "stdout",
     "output_type": "stream",
     "text": [
      "\\multicolumn{6}{l}{\\textit{Hop 2, Supported}} \\\\\n",
      "Question Answering & 70.0% & 70.0% & 60.0% & - & - \\\\\n",
      "\\multicolumn{6}{l}{\\textit{Hop 2, Not Supported}} \\\\\n",
      "Question Answering & 70.0% & 70.0% & 60.0% & - & - \\\\\n",
      "\\multicolumn{6}{l}{\\textit{Hop 3, Supported}} \\\\\n",
      "Question Answering & 40.0% & 40.0% & 50.0% & 60.0% & - \\\\\n",
      "\\multicolumn{6}{l}{\\textit{Hop 3, Not Supported}} \\\\\n",
      "Question Answering & 40.0% & 30.0% & 30.0% & 30.0% & - \\\\\n",
      "\\multicolumn{6}{l}{\\textit{Hop 4, Supported}} \\\\\n",
      "Question Answering & 40.0% & 60.0% & 60.0% & 30.0% & 30.0% \\\\\n",
      "\\multicolumn{6}{l}{\\textit{Hop 4, Not Supported}} \\\\\n",
      "Question Answering & 40.0% & 40.0% & 30.0% & 30.0% & 30.0% \\\\\n"
     ]
    }
   ],
   "source": [
    "def generate_latex_row_for_method(data, max_iter, method):\n",
    "    # Print rows for each hop count for the specific method\n",
    "    for hop_count in data:\n",
    "        #hop_count = int(hop_count)\n",
    "        # Supported\n",
    "        row_entries_supported = []\n",
    "        print(f\"\\\\multicolumn{{6}}{{l}}{{\\\\textit{{Hop {hop_count}, Supported}}}} \\\\\\\\\")\n",
    "        for i in range(max_iter + 1):\n",
    "            if i <= int(hop_count):\n",
    "                success = sum(is_successful_retrieval(item, f\"retrieved_{i}\") for item in data[hop_count])\n",
    "                total = sum(1 for item in data[hop_count])\n",
    "                success_rate = success / total * 100 if total > 0 else 0\n",
    "                row_entries_supported.append(f\"{success_rate:.1f}%\")\n",
    "            else:\n",
    "                row_entries_supported.append(\"-\")\n",
    "        print(method + \" & \" + \" & \".join(row_entries_supported) + \" \\\\\\\\\")\n",
    "\n",
    "        # Not Supported\n",
    "        row_entries_not_supported = []\n",
    "        print(f\"\\\\multicolumn{{6}}{{l}}{{\\\\textit{{Hop {hop_count}, Not Supported}}}} \\\\\\\\\")\n",
    "        for i in range(max_iter + 1):\n",
    "            if i <= int(hop_count):\n",
    "                success = sum(is_successful_retrieval(item[\"not_supported_counterpart\"], f\"retrieved_{i}\") for item in data[hop_count])\n",
    "                total = sum(1 for item in data[hop_count])\n",
    "                success_rate = success / total * 100 if total > 0 else 0\n",
    "                row_entries_not_supported.append(f\"{success_rate:.1f}%\")\n",
    "            else:\n",
    "                row_entries_not_supported.append(\"-\")\n",
    "        print(method + \" & \" + \" & \".join(row_entries_not_supported) + \" \\\\\\\\\")\n",
    "generate_latex_row_for_method(data=data, max_iter=4, method=\"Question Answering\")\n"
   ]
  },
  {
   "cell_type": "code",
   "execution_count": null,
   "metadata": {},
   "outputs": [],
   "source": [
    "# not supported style data\n",
    "# iterative_qualitative_analysis_not_supported_no_filter_80.json\n",
    "# iterative_qualitative_analysis_not_supported_question_answering_80.json\n",
    "# iterative_qualitative_analysis_not_supported_no_filter_80.json -> normales sub question retrieval"
   ]
  }
 ],
 "metadata": {
  "kernelspec": {
   "display_name": "mistral_venv",
   "language": "python",
   "name": "python3"
  },
  "language_info": {
   "codemirror_mode": {
    "name": "ipython",
    "version": 3
   },
   "file_extension": ".py",
   "mimetype": "text/x-python",
   "name": "python",
   "nbconvert_exporter": "python",
   "pygments_lexer": "ipython3",
   "version": "3.10.12"
  }
 },
 "nbformat": 4,
 "nbformat_minor": 2
}
